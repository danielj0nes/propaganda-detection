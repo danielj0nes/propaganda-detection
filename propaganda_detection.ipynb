{
 "cells": [
  {
   "cell_type": "code",
   "execution_count": null,
   "id": "678e9c6d",
   "metadata": {},
   "outputs": [],
   "source": [
    "# Required libraries\n",
    "import csv\n",
    "import openai\n"
   ]
  },
  {
   "cell_type": "code",
   "execution_count": null,
   "id": "2d976306",
   "metadata": {},
   "outputs": [],
   "source": [
    "# Read constants; dataset + api key\n",
    "DATA_PATH = \"data/news_articles.csv\"\n",
    "KEY_PATH = \"data/openai_key.txt\"\n",
    "\n",
    "with open(DATA_PATH, \"r\", encoding=\"utf-8\") as d:\n",
    "    ARTICLES = [row for row in csv.reader(d, delimiter=\",\", quotechar='\"')]\n",
    "\n",
    "API_KEY = open(KEY_PATH).readline()\n"
   ]
  },
  {
   "cell_type": "code",
   "execution_count": null,
   "id": "769408e8",
   "metadata": {},
   "outputs": [],
   "source": [
    "# Example article content\n",
    "print(ARTICLES[1][4])\n"
   ]
  }
 ],
 "metadata": {
  "kernelspec": {
   "display_name": "Python 3 (ipykernel)",
   "language": "python",
   "name": "python3"
  },
  "language_info": {
   "codemirror_mode": {
    "name": "ipython",
    "version": 3
   },
   "file_extension": ".py",
   "mimetype": "text/x-python",
   "name": "python",
   "nbconvert_exporter": "python",
   "pygments_lexer": "ipython3",
   "version": "3.10.5"
  }
 },
 "nbformat": 4,
 "nbformat_minor": 5
}
