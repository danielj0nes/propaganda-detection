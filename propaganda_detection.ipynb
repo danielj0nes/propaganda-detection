{
 "cells": [
  {
   "cell_type": "markdown",
   "id": "eb97869d-ff36-4ef3-989b-cce8a4fc0630",
   "metadata": {},
   "source": [
    "# Detecting Propaganda in News Articles"
   ]
  },
  {
   "cell_type": "code",
   "execution_count": 9,
   "id": "678e9c6d",
   "metadata": {},
   "outputs": [],
   "source": [
    "# Required libraries\n",
    "import csv\n",
    "import openai\n",
    "import tiktoken\n"
   ]
  },
  {
   "cell_type": "code",
   "execution_count": 8,
   "id": "2d976306",
   "metadata": {},
   "outputs": [
    {
     "name": "stdout",
     "output_type": "stream",
     "text": [
      "Total articles in data set: 3652 / 3702\n"
     ]
    }
   ],
   "source": [
    "# Read dataset and add contents to filtered 2D array + get API key\n",
    "DATA_PATH = \"data/news_articles.csv\"\n",
    "KEY_PATH = \"data/openai_key.txt\"\n",
    "MODEL = \"gpt-3.5-turbo\"\n",
    "ENC = tiktoken.encoding_for_model(MODEL)\n",
    "# Set a cut-off point to ensure enough tokens are available\n",
    "CUTOFF = 3000\n",
    "articles = []\n",
    "\n",
    "API_KEY = open(KEY_PATH).readline()\n",
    "openai.api_key = API_KEY\n",
    "with open(DATA_PATH, \"r\", encoding=\"utf-8\") as d:\n",
    "    for row in csv.reader(d, delimiter=\",\", quotechar='\"'):\n",
    "            if len(ENC.encode(row[4])) <= CUTOFF:\n",
    "                articles.append(row)\n",
    "# (Optional) remove header\n",
    "articles.pop(0)\n",
    "\n",
    "print(f\"Total articles in data set: {len(articles)} / 3702\")\n"
   ]
  },
  {
   "cell_type": "code",
   "execution_count": null,
   "id": "769408e8",
   "metadata": {},
   "outputs": [],
   "source": [
    "# Example article content\n",
    "print(articles[0][4])\n"
   ]
  },
  {
   "cell_type": "code",
   "execution_count": 17,
   "id": "d25c59c5",
   "metadata": {},
   "outputs": [
    {
     "name": "stdout",
     "output_type": "stream",
     "text": [
      "\n",
      "\n",
      "Name calling - No\n",
      "Repetition - No\n",
      "Slogans - No\n",
      "Appeal to fear - Yes, by suggesting that a Russian invasion would lead to human rights violations and abuses, including targeted killings and forced disappearances.\n",
      "Doubt - No\n",
      "Exaggeration / minimization - No\n",
      "Flag-Waving - No\n",
      "Loaded Language - Yes, by using words such as \"human rights catastrophe,\" \"vulnerable groups,\" and \"lethal measures.\"\n",
      "Reduction ad hitlerum - No\n",
      "Bandwagon - No\n",
      "Casual oversimplification - No\n",
      "Obfuscation, intentional vagueness - No\n",
      "Appeal to authority - Yes, by citing the US Ambassador to the UN and the UN High Commissioner for Human Rights.\n",
      "Black & white fallacy - No\n",
      "Thought terminating clichés - No\n",
      "Red herring - No\n",
      "Straw men - No\n",
      "Whataboutism - No\n",
      "\n",
      "Verdict: The text contains some propaganda techniques, such as appeal to fear and loaded language, but overall it is a factual report of allegations made by the US Ambassador to the UN.\n"
     ]
    }
   ],
   "source": [
    "# OpenAI API Example\n",
    "article_prompt = f\"\"\"\n",
    "The following are a list of propaganda techniques and their definitions:\n",
    "\n",
    "Name calling - Attack an object/subject of the propaganda with an insulting label.\n",
    "Repetition - Repeat the same message over and over.\n",
    "Slogans - Use a brief and memorable phrase.\n",
    "Appeal to fear - Support an idea by instilling fear against other alternatives.\n",
    "Doubt - Questioning the credibility of someone/something.\n",
    "Exaggeration / minimization - Exaggerate or minimize something.\n",
    "Flag-Waving - Appeal to patriotism or identity.\n",
    "Loaded Language - Appeal to emotions or stereotypes.\n",
    "Reduction ad hitlerum - Disapprove an idea suggesting it is popular with groups hated by the audience.\n",
    "Bandwagon - Appeal to the popularity of an idea.\n",
    "Casual oversimplification - Assume a simple cause for a complex event.\n",
    "Obfuscation, intentional vagueness - Use deliberately unclear and obscure expressions to confuse the audience.\n",
    "Appeal to authority - Use authority’s support as evidence.\n",
    "Black & white fallacy - Present only two options among many.\n",
    "Thought terminating clichés - Phrases that discourage critical thought and meaningful discussions.\n",
    "Red herring - Introduce irrelevant material to distract.\n",
    "Straw men - Refute argument that was not presented.\n",
    "Whataboutism - Charging an opponent with hypocrisy.\n",
    "\n",
    "For each of the techniques and according to its definition, answer with a yes or no if the technique is being used in the following text and with an example from the text:\n",
    "\n",
    "{articles[0][4]}\n",
    "\n",
    "Lastly, give a final verdict on whether the text is propaganda.\n",
    "\"\"\"\n",
    "\n",
    "completion = openai.ChatCompletion.create(\n",
    "    model=MODEL,\n",
    "    messages=[\n",
    "        {\"role\": \"user\", \"content\": article_prompt}\n",
    "    ],\n",
    "    temperature=0\n",
    ")\n",
    "\n",
    "print(completion.choices[0].message.content)"
   ]
  },
  {
   "cell_type": "markdown",
   "id": "ecf44561-25a2-4a7f-8160-54d8efa978b1",
   "metadata": {},
   "source": [
    "# Token usage"
   ]
  },
  {
   "cell_type": "code",
   "execution_count": 3,
   "id": "b14f88ef",
   "metadata": {},
   "outputs": [],
   "source": [
    "# Get required tokens of example prompt\n",
    "# Max tokens for prompt and response cannot exceed 4096 tokens\n",
    "# Prompt without article text comes to 303 tokens\n",
    "\n",
    "EXAMPLE_PROMPT = f\"\"\"\n",
    "The following are a list of propaganda techniques and their definitions:\n",
    "\n",
    "Name calling - Attack an object/subject of the propaganda with an insulting label.\n",
    "Repetition - Repeat the same message over and over.\n",
    "Slogans - Use a brief and memorable phrase.\n",
    "Appeal to fear - Support an idea by instilling fear against other alternatives.\n",
    "Doubt - Questioning the credibility of someone/something.\n",
    "Exaggeration / minimization - Exaggerate or minimize something.\n",
    "Flag-Waving - Appeal to patriotism or identity.\n",
    "Loaded Language - Appeal to emotions or stereotypes.\n",
    "Reduction ad hitlerum - Disapprove an idea suggesting it is popular with groups hated by the audience.\n",
    "Bandwagon - Appeal to the popularity of an idea.\n",
    "Casual oversimplification - Assume a simple cause for a complex event.\n",
    "Obfuscation, intentional vagueness - Use deliberately unclear and obscure expressions to confuse the audience.\n",
    "Appeal to authority - Use authority’s support as evidence.\n",
    "Black & white fallacy - Present only two options among many.\n",
    "Thought terminating clichés - Phrases that discourage critical thought and meaningful discussions.\n",
    "Red herring - Introduce irrelevant material to distract.\n",
    "Straw men - Refute argument that was not presented.\n",
    "Whataboutism - Charging an opponent with hypocrisy.\n",
    "\n",
    "For each of the techniques and according to its definition, answer with a yes or no if the technique is being used in the following text and with an example from the text:\n",
    "\n",
    "{articles[0][4]}\n",
    "\n",
    "Lastly, give a final verdict on whether the text is propaganda.\n",
    "\"\"\"\n",
    "prompt_tokens = len(ENC.encode(EXAMPLE_PROMPT))\n"
   ]
  },
  {
   "cell_type": "code",
   "execution_count": 4,
   "id": "47566765",
   "metadata": {},
   "outputs": [
    {
     "name": "stdout",
     "output_type": "stream",
     "text": [
      "Total tokens required: 1381\n"
     ]
    }
   ],
   "source": [
    "# Example response comes to 602 credits\n",
    "EXAMPLE_RESPONSE = \"\"\"\n",
    "Name calling: No. There is no use of insulting labels towards any object/subject in the text.\n",
    "Repetition: No. The same message is not repeated over and over.\n",
    "Slogans: No. There is no use of a brief and memorable phrase in the text.\n",
    "Appeal to fear: Yes. The text uses fear as a means to support the idea of breaking away from Ukraine and seeking military and financial support from Russia. For example, the text states, \"amid what they claim is a sharp spike in hostilities, and have ordered the mobilization of all able-bodied men to be ready to fight in a potential conflict.\"\n",
    "Doubt: No. There is no questioning of the credibility of anyone or anything in the text.\n",
    "Exaggeration/minimization: No. There is no exaggeration or minimization of anything in the text.\n",
    "Flag-Waving: Yes. The text appeals to the patriotism of the breakaway republics and their desire for independence from Ukraine. For example, the text states, \"In statements released simultaneously on Tuesday, the parliament of the Donetsk People’s Republic and Lugansk’s People's Council declared that the decision to ratify the ‘Treaty of Friendship and Cooperation with the Russian Federation’ had been passed unanimously by both assemblies.\"\n",
    "Loaded Language: No. There is no use of language that appeals to emotions or stereotypes in the text.\n",
    "Reduction ad Hitlerum: No. There is no disapproval of an idea by suggesting it is popular with groups hated by the audience in the text.\n",
    "Bandwagon: No. There is no appeal to the popularity of an idea in the text.\n",
    "Casual oversimplification: No. The text does not assume a simple cause for a complex event.\n",
    "Obfuscation, intentional vagueness: No. The text is not deliberately unclear or obscure.\n",
    "Appeal to authority: Yes. The text uses Putin's support as evidence for the breakaway republics' independence. For example, the text states, \"The move, he said, was in response to years of fighting in Ukraine’s war-torn east and Kiev’s attempts to “drag foreign states into conflict with our country” with its efforts to join NATO.\"\n",
    "Black & white fallacy: No. The text presents more than two options.\n",
    "Thought terminating clichés: No. The text does not contain phrases that discourage critical thought or meaningful discussions.\n",
    "Red herring: No. The text does not introduce irrelevant material to distract.\n",
    "Straw men: No. There is no refutation of an argument that was not presented in the text.\n",
    "Whataboutism: No. There is no charging of an opponent with hypocrisy in the text.\n",
    "Verdict: The text does contain some propaganda techniques, such as an appeal to fear and an appeal to patriotism. However, the text primarily consists of factual reporting on recent events, and these propaganda techniques are used in a relatively mild and subtle way. Overall, the text is more informative than propagandistic.\n",
    "\"\"\"\n",
    "resp_tokens = len(ENC.encode(EXAMPLE_RESPONSE))\n",
    "print(f\"Total tokens required: {prompt_tokens + resp_tokens}\")\n"
   ]
  }
 ],
 "metadata": {
  "kernelspec": {
   "display_name": "Python 3 (ipykernel)",
   "language": "python",
   "name": "python3"
  },
  "language_info": {
   "codemirror_mode": {
    "name": "ipython",
    "version": 3
   },
   "file_extension": ".py",
   "mimetype": "text/x-python",
   "name": "python",
   "nbconvert_exporter": "python",
   "pygments_lexer": "ipython3",
   "version": "3.10.5"
  }
 },
 "nbformat": 4,
 "nbformat_minor": 5
}
